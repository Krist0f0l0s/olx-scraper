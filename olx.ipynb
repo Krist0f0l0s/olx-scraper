{
 "cells": [
  {
   "cell_type": "code",
   "execution_count": 16,
   "metadata": {},
   "outputs": [],
   "source": [
    "import requests\n",
    "from bs4 import BeautifulSoup"
   ]
  },
  {
   "cell_type": "code",
   "execution_count": 17,
   "metadata": {},
   "outputs": [],
   "source": [
    "url = 'https://www.olx.pl/elektronika/krakow/?page=1000&search[filter_float_price%3Ato]=500'\n",
    "\n",
    "r = requests.get(url)"
   ]
  },
  {
   "cell_type": "code",
   "execution_count": 18,
   "metadata": {},
   "outputs": [
    {
     "data": {
      "text/plain": [
       "25"
      ]
     },
     "execution_count": 18,
     "metadata": {},
     "output_type": "execute_result"
    }
   ],
   "source": [
    "max_page = int(r.url[44:-40])\n",
    "max_page"
   ]
  },
  {
   "cell_type": "code",
   "execution_count": 27,
   "metadata": {},
   "outputs": [],
   "source": [
    "offers_urls = []\n",
    "\n",
    "for i in range(1, max_page+1):\n",
    "    url  = f'https://www.olx.pl/elektronika/krakow/?page={i}&search[filter_float_price%3Ato]=500'\n",
    "    r = requests.get(url)\n",
    "    if r.ok:\n",
    "        soup = BeautifulSoup(r.content)\n",
    "        offers = soup.find_all(attrs={'data-testid': 'l-card'})\n",
    "        for offer in offers:\n",
    "            offers_urls.append(f'https://www.olx.pl{offer.a['href']}')\n"
   ]
  },
  {
   "cell_type": "code",
   "execution_count": 38,
   "metadata": {},
   "outputs": [],
   "source": [
    "offers_urls = list(set(offers_urls))\n",
    "\n",
    "for url in offers_urls:\n",
    "    r = requests.get(url)\n",
    "    if r.ok:\n",
    "        soup = BeautifulSoup(r.content)\n",
    "        desc = soup.find(attrs={'data-cy': 'ad_description'}).div.text\n",
    "        if \"niesprawdz\" in desc or \"nie mam jak sprawdz\" in desc:\n",
    "            print(\"\".join(desc.split()))"
   ]
  }
 ],
 "metadata": {
  "kernelspec": {
   "display_name": "Python 3",
   "language": "python",
   "name": "python3"
  },
  "language_info": {
   "codemirror_mode": {
    "name": "ipython",
    "version": 3
   },
   "file_extension": ".py",
   "mimetype": "text/x-python",
   "name": "python",
   "nbconvert_exporter": "python",
   "pygments_lexer": "ipython3",
   "version": "3.12.0"
  }
 },
 "nbformat": 4,
 "nbformat_minor": 2
}
